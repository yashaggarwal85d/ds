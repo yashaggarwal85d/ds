{
  "nbformat": 4,
  "nbformat_minor": 0,
  "metadata": {
    "colab": {
      "name": "Assignment1_DS.ipynb",
      "provenance": [],
      "authorship_tag": "ABX9TyMqj209AJTQHI/9XsCAo5Zs",
      "include_colab_link": true
    },
    "kernelspec": {
      "name": "python3",
      "display_name": "Python 3"
    },
    "language_info": {
      "name": "python"
    }
  },
  "cells": [
    {
      "cell_type": "markdown",
      "metadata": {
        "id": "view-in-github",
        "colab_type": "text"
      },
      "source": [
        "<a href=\"https://colab.research.google.com/github/7ayush/DataScience/blob/main/Assignment1_DS.ipynb\" target=\"_parent\"><img src=\"https://colab.research.google.com/assets/colab-badge.svg\" alt=\"Open In Colab\"/></a>"
      ]
    },
    {
      "cell_type": "markdown",
      "metadata": {
        "id": "IzxG_ry_thB_"
      },
      "source": [
        "# **Assignment-1**\n",
        "Name: Ayush Kaushik\n",
        "\n",
        "Roll No. 101903619\n",
        "\n",
        "Batch: 3COE24\n",
        "\n",
        "Subject: Data Science\n"
      ]
    },
    {
      "cell_type": "code",
      "metadata": {
        "colab": {
          "base_uri": "https://localhost:8080/"
        },
        "id": "wC9Ep2-DCKAM",
        "outputId": "d4b25937-43bb-4efa-c7bf-e71d01963cf8"
      },
      "source": [
        "# Question 1\n",
        "l=[1,2,3,4,5,6,7,8]\n",
        "choice=0\n",
        "x=0\n",
        "y=0\n",
        "subchoice=0\n",
        "while choice!=3:\n",
        "  print(\"===========MENU===========\\n\")\n",
        "  print(\"1. Insert\\n\")\n",
        "  print(\"2. Delete\\n\")\n",
        "  print(\"3. Exit\\n\")  \n",
        "  choice=int(input(\"Enter a choice\"))\n",
        "  if choice==1:\n",
        "    x=int(input(\"Enter and element to be inserted\\n\"))\n",
        "    l.append(x)\n",
        "    print(l)\n",
        "  elif choice==2:\n",
        "      while choice!=-1:\n",
        "        print(\"===========MENU===========\\n\")\n",
        "        print(\"1. Delete by value\\n\")\n",
        "        print(\"2. Delete by Position\\n\")  \n",
        "        print(\"3. Delete in a range\\n\") \n",
        "        print(\"4. Exit\\n\") \n",
        "        subchoice=int(input(\"Enter your choice\"))  \n",
        "        if subchoice==1:\n",
        "            x=int(input(\"Enter and element to be Deleted\\n\"))\n",
        "            l.remove(x)\n",
        "        elif subchoice==2:\n",
        "            x=int(input(\"Enter and position to be Deleted\\n\"))\n",
        "            del l[x-1]\n",
        "        elif subchoice==3:\n",
        "            x=int(input(\"Enter and Delete start\\n\"))\n",
        "            y=int(input(\"Enter and Delete end\\n\"))\n",
        "            del l[x-1:y-1]\n",
        "        else:\n",
        "            break\n",
        "        print(l)\n",
        "  else:\n",
        "        break            "
      ],
      "execution_count": 4,
      "outputs": [
        {
          "output_type": "stream",
          "text": [
            "===========MENU===========\n",
            "\n",
            "1. Insert\n",
            "\n",
            "2. Delete\n",
            "\n",
            "3. Exit\n",
            "\n",
            "Enter a choice1\n",
            "Enter and element to be inserted\n",
            "9\n",
            "[1, 2, 3, 4, 5, 6, 7, 8, 9]\n",
            "===========MENU===========\n",
            "\n",
            "1. Insert\n",
            "\n",
            "2. Delete\n",
            "\n",
            "3. Exit\n",
            "\n",
            "Enter a choice2\n",
            "===========MENU===========\n",
            "\n",
            "1. Delete by value\n",
            "\n",
            "2. Delete by Position\n",
            "\n",
            "3. Delete in a range\n",
            "\n",
            "4. Exit\n",
            "\n",
            "Enter your choice1\n",
            "Enter and element to be Deleted\n",
            "9\n",
            "[1, 2, 3, 4, 5, 6, 7, 8]\n",
            "===========MENU===========\n",
            "\n",
            "1. Delete by value\n",
            "\n",
            "2. Delete by Position\n",
            "\n",
            "3. Delete in a range\n",
            "\n",
            "4. Exit\n",
            "\n",
            "Enter your choice2\n",
            "Enter and position to be Deleted\n",
            "1\n",
            "[2, 3, 4, 5, 6, 7, 8]\n",
            "===========MENU===========\n",
            "\n",
            "1. Delete by value\n",
            "\n",
            "2. Delete by Position\n",
            "\n",
            "3. Delete in a range\n",
            "\n",
            "4. Exit\n",
            "\n",
            "Enter your choice3\n",
            "Enter and Delete start\n",
            "1\n",
            "Enter and Delete end\n",
            "3\n",
            "[4, 5, 6, 7, 8]\n",
            "===========MENU===========\n",
            "\n",
            "1. Delete by value\n",
            "\n",
            "2. Delete by Position\n",
            "\n",
            "3. Delete in a range\n",
            "\n",
            "4. Exit\n",
            "\n",
            "Enter your choice4\n",
            "===========MENU===========\n",
            "\n",
            "1. Insert\n",
            "\n",
            "2. Delete\n",
            "\n",
            "3. Exit\n",
            "\n",
            "Enter a choice3\n"
          ],
          "name": "stdout"
        }
      ]
    },
    {
      "cell_type": "code",
      "metadata": {
        "colab": {
          "base_uri": "https://localhost:8080/"
        },
        "id": "BD0bBjgAmOh-",
        "outputId": "3f214d17-a912-41cb-f9a8-eb16479be7f7"
      },
      "source": [
        "# Question 2\n",
        "lst=[5,6,7,8,9,10]\n",
        "print(\"Enter the number of elements to be added\\n\")\n",
        "n=0\n",
        "n = int(input(\"Enter number of elements : \"))\n",
        " \n",
        "# iterating till the range\n",
        "for i in range(0, n):\n",
        "    ele = int(input())\n",
        " \n",
        "    lst.append(ele) # adding the element\n",
        "     \n",
        "print(lst)\n"
      ],
      "execution_count": 7,
      "outputs": [
        {
          "output_type": "stream",
          "text": [
            "Enter the number of elements to be added\n",
            "\n",
            "Enter number of elements : 5\n",
            "1\n",
            "2\n",
            "3\n",
            "4\n",
            "5\n",
            "[5, 6, 7, 8, 9, 10, 1, 2, 3, 4, 5]\n"
          ],
          "name": "stdout"
        }
      ]
    },
    {
      "cell_type": "code",
      "metadata": {
        "colab": {
          "base_uri": "https://localhost:8080/"
        },
        "id": "jk0VgtronZdM",
        "outputId": "32ea18e7-e448-4855-a614-a136a359100f"
      },
      "source": [
        "# Question 3\n",
        "list=[]\n",
        "n=int(input(\"Enter the number of elements: \")) \n",
        "for i in range(n):\n",
        "  ele=input(\"Enter the element: \")\n",
        "  list.append(ele) \n",
        "tuple1=tuple(list) \n",
        "tuple2=tuple1[::-3] \n",
        "tuple3=tuple1[2:9:2] \n",
        "print(tuple1) \n",
        "print(tuple2) \n",
        "print(tuple3)\n"
      ],
      "execution_count": 8,
      "outputs": [
        {
          "output_type": "stream",
          "text": [
            "Enter the number of elements: 15\n",
            "Enter the element: 1\n",
            "Enter the element: 2\n",
            "Enter the element: 3\n",
            "Enter the element: 4\n",
            "Enter the element: 5\n",
            "Enter the element: 6\n",
            "Enter the element: 7\n",
            "Enter the element: 8\n",
            "Enter the element: 9\n",
            "Enter the element: 10\n",
            "Enter the element: 11\n",
            "Enter the element: 12\n",
            "Enter the element: 13\n",
            "Enter the element: 14\n",
            "Enter the element: 15\n",
            "('1', '2', '3', '4', '5', '6', '7', '8', '9', '10', '11', '12', '13', '14', '15')\n",
            "('15', '12', '9', '6', '3')\n",
            "('3', '5', '7', '9')\n"
          ],
          "name": "stdout"
        }
      ]
    },
    {
      "cell_type": "code",
      "metadata": {
        "colab": {
          "base_uri": "https://localhost:8080/"
        },
        "id": "56BOIUXPovf3",
        "outputId": "2c52278f-24bd-46ce-fce4-75575be2bf0c"
      },
      "source": [
        "# Question 4\n",
        "n=int(input(\"Enter the number of students\")) \n",
        "list1=[]\n",
        "for i in range(n):\n",
        "  email=input(\"Enter the email ids: \") \n",
        "  list1.append(email)\n",
        "tuple1=tuple(list1) \n",
        "names=[] \n",
        "domains=[]\n",
        "for i in tuple1:\n",
        "  name,domain=i.split('@') \n",
        "  names.append(name) \n",
        "  domains.append(domain)\n",
        "names=tuple(names) \n",
        "domains=tuple(domains) \n",
        "print(\"Tuple \",tuple1) \n",
        "print(\"Names \",names) \n",
        "print(\"Domains \",domains)"
      ],
      "execution_count": 9,
      "outputs": [
        {
          "output_type": "stream",
          "text": [
            "Enter the number of students5\n",
            "Enter the email ids: ayush.kaushik711@gmail.com\n",
            "Enter the email ids: kg@gmail.com\n",
            "Enter the email ids: bs@gmail.com\n",
            "Enter the email ids: rm@gmail.com\n",
            "Enter the email ids: at@gmail.com\n",
            "Tuple  ('ayush.kaushik711@gmail.com', 'kg@gmail.com', 'bs@gmail.com', 'rm@gmail.com', 'at@gmail.com')\n",
            "Names  ('ayush.kaushik711', 'kg', 'bs', 'rm', 'at')\n",
            "Domains  ('gmail.com', 'gmail.com', 'gmail.com', 'gmail.com', 'gmail.com')\n"
          ],
          "name": "stdout"
        }
      ]
    },
    {
      "cell_type": "code",
      "metadata": {
        "colab": {
          "base_uri": "https://localhost:8080/"
        },
        "id": "pE_ZXSW-pW18",
        "outputId": "9621d2a9-d1cb-4f40-eb5d-886331cfd818"
      },
      "source": [
        "# Question 5\n",
        "n=int(input(\"Enter number of players: \")) \n",
        "d={}\n",
        "for i in range(n):\n",
        "  name=input(\"Enter the name of player: \") \n",
        "  no_of_medals=int(input(\"Enter the number of medals: \")) \n",
        "  d[name]=no_of_medals\n",
        "print(d)"
      ],
      "execution_count": 10,
      "outputs": [
        {
          "output_type": "stream",
          "text": [
            "Enter number of players: 3\n",
            "Enter the name of player: Ayush\n",
            "Enter the number of medals: 3\n",
            "Enter the name of player: Kashin\n",
            "Enter the number of medals: 2\n",
            "Enter the name of player: Rahul\n",
            "Enter the number of medals: 1\n",
            "{'Ayush': 3, 'Kashin': 2, 'Rahul': 1}\n"
          ],
          "name": "stdout"
        }
      ]
    },
    {
      "cell_type": "code",
      "metadata": {
        "colab": {
          "base_uri": "https://localhost:8080/"
        },
        "id": "NjhuTQwDsleA",
        "outputId": "9888b221-5872-4077-ab52-9e2376c11da3"
      },
      "source": [
        "# Question 6\n",
        "dict1 = {0:'Zero',1:'One',2:'Two',3:'Three'} \n",
        "def get_key(val):\n",
        "  for key, value in dict1.items(): \n",
        "    if val == value:\n",
        "      return key\n",
        "  return \"Value doesn't exist\"\n",
        "print(\"1.Enter The Value\\n2.Exit\") \n",
        "while True:\n",
        "  c=int(input(\"\\nEnter The Choice : \")) \n",
        "  if c==1:\n",
        "    v=input(\"\\nEnter The Value : \")\n",
        "    print(get_key(v)) \n",
        "  elif c==2:\n",
        "    break \n",
        "  else:\n",
        "    print(\"\\nWrong Choice\")\n"
      ],
      "execution_count": 16,
      "outputs": [
        {
          "output_type": "stream",
          "text": [
            "1.Enter The Value\n",
            "2.Exit\n",
            "\n",
            "Enter The Choice : 1\n",
            "\n",
            "Enter The Value : 2\n",
            "Value doesn't exist\n",
            "\n",
            "Enter The Choice : 1\n",
            "\n",
            "Enter The Value : Two\n",
            "2\n",
            "\n",
            "Enter The Choice : 2\n"
          ],
          "name": "stdout"
        }
      ]
    },
    {
      "cell_type": "code",
      "metadata": {
        "colab": {
          "base_uri": "https://localhost:8080/"
        },
        "id": "4yS4YsqMpzbf",
        "outputId": "71facfd3-fd12-433b-c2c9-f2ed89f62761"
      },
      "source": [
        "# Question 7\n",
        "d={}\n",
        "n=int(input(\"Enter the no of students\")) \n",
        "for i in range(n):\n",
        "  r=int(input(\"Enter the roll no :\"))\n",
        "  name=input(\"Enter the name :\") \n",
        "  mark=int(input(\"Enter the marks :\")) \n",
        "  d[r]=[name,mark]\n",
        "for k in d.items(): \n",
        "  print()\n",
        "  if k[1][1]>=75:\n",
        "    print(k[1][0])\n"
      ],
      "execution_count": 11,
      "outputs": [
        {
          "output_type": "stream",
          "text": [
            "Enter the no of students3\n",
            "Enter the roll no :101903619\n",
            "Enter the name :Ayush\n",
            "Enter the marks :99\n",
            "Enter the roll no :101903542\n",
            "Enter the name :Kashin\n",
            "Enter the marks :69\n",
            "Enter the roll no :101903200\n",
            "Enter the name :Ballu\n",
            "Enter the marks :110\n",
            "\n",
            "Ayush\n",
            "\n",
            "\n",
            "Ballu\n"
          ],
          "name": "stdout"
        }
      ]
    },
    {
      "cell_type": "code",
      "metadata": {
        "colab": {
          "base_uri": "https://localhost:8080/"
        },
        "id": "LZYUOgYgqRxg",
        "outputId": "8f4ae336-fe80-4869-8427-b88003896921"
      },
      "source": [
        "# Question 8\n",
        "test_str = \"Tiet@patiala\"\n",
        "all_freq = {}\n",
        "for i in test_str: \n",
        "  if i in all_freq:\n",
        "    all_freq[i] += 1 \n",
        "  else:\n",
        "    all_freq[i] = 1\n",
        "print (\"Count of all characters is :\\n \" + str(all_freq))"
      ],
      "execution_count": 12,
      "outputs": [
        {
          "output_type": "stream",
          "text": [
            "Count of all characters is :\n",
            " {'T': 1, 'i': 2, 'e': 1, 't': 2, '@': 1, 'p': 1, 'a': 3, 'l': 1}\n"
          ],
          "name": "stdout"
        }
      ]
    },
    {
      "cell_type": "code",
      "metadata": {
        "colab": {
          "base_uri": "https://localhost:8080/"
        },
        "id": "It2EGVljq7zz",
        "outputId": "baec901a-c4f6-4c9a-854d-98bcad874d3b"
      },
      "source": [
        "# Question 9\n",
        "string = input(\"Enter a string: \") \n",
        "substr = ''\n",
        "n = len(string) \n",
        "for i in range(n):\n",
        "  if string[i] not in 'aeiou' and string[i] not in 'AEIOU' : \n",
        "    substr += string[i]\n",
        "print (\"Maximum length consonant substring is :\" , substr)\n"
      ],
      "execution_count": 13,
      "outputs": [
        {
          "output_type": "stream",
          "text": [
            "Enter a string: ayushkaushik\n",
            "Maximum length consonant substring is : yshkshk\n"
          ],
          "name": "stdout"
        }
      ]
    },
    {
      "cell_type": "code",
      "metadata": {
        "colab": {
          "base_uri": "https://localhost:8080/"
        },
        "id": "piIE8zOhrLeR",
        "outputId": "aa1ddf27-bce4-477c-d092-d8b31f5be1bd"
      },
      "source": [
        "# Question 10\n",
        "line=input('Enter the line: ') \n",
        "lowercount=uppercount=symbolcount=0 \n",
        "digitcount=alphacount=symbolcount=0 \n",
        "for a in line:\n",
        "  if a.islower(): \n",
        "    lowercount+=1\n",
        "  elif a.isupper(): \n",
        "    uppercount+=1\n",
        "  elif a.isdigit(): \n",
        "    digitcount+=1\n",
        "  else: \n",
        "    symbolcount+=1\n",
        "  if a.isalpha():\n",
        "    alphacount+=1\n",
        "print(\"Number of upper case letters : \",uppercount) \n",
        "print(\"Number of alphabets: \",alphacount)\n",
        "print(\"Number of Symbols: \",symbolcount) \n",
        "print(\"Number of digits: \",digitcount) \n",
        "print(\"Number of lower case letters: \",lowercount)"
      ],
      "execution_count": 14,
      "outputs": [
        {
          "output_type": "stream",
          "text": [
            "Enter the line: I am Ayush Kaushik$##\n",
            "Number of upper case letters :  3\n",
            "Number of alphabets:  15\n",
            "Number of Symbols:  6\n",
            "Number of digits:  0\n",
            "Number of lower case letters:  12\n"
          ],
          "name": "stdout"
        }
      ]
    }
  ]
}