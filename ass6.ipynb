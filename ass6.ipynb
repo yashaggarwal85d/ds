{
  "nbformat": 4,
  "nbformat_minor": 0,
  "metadata": {
    "colab": {
      "name": "Data Science - Assignment 6.ipynb",
      "provenance": []
    },
    "kernelspec": {
      "name": "python3",
      "display_name": "Python 3"
    },
    "language_info": {
      "name": "python"
    }
  },
  "cells": [
    {
      "cell_type": "markdown",
      "metadata": {
        "id": "XOdPqrIcN-8H"
      },
      "source": [
        "DATA SCIENCE (UCS538) Lab Assignment 6"
      ]
    },
    {
      "cell_type": "markdown",
      "metadata": {
        "id": "YweTfSxXOBc-"
      },
      "source": [
        "Vernica Beohar     101903182     COE7"
      ]
    },
    {
      "cell_type": "code",
      "metadata": {
        "id": "SFuNsKFextCH"
      },
      "source": [
        "import pandas as pd\n",
        "import numpy as np\n",
        "import seaborn as sns\n",
        "import matplotlib.pyplot as plt"
      ],
      "execution_count": null,
      "outputs": []
    },
    {
      "cell_type": "code",
      "metadata": {
        "id": "tiQQnflmx0mO",
        "colab": {
          "base_uri": "https://localhost:8080/",
          "height": 423
        },
        "outputId": "a6b365a6-360b-438a-812e-7f91d531213d"
      },
      "source": [
        "#Q1\n",
        "\n",
        "iris=pd.read_csv(\"/content/iris_01.csv\",index_col=0)\n",
        "iris"
      ],
      "execution_count": null,
      "outputs": [
        {
          "output_type": "execute_result",
          "data": {
            "text/html": [
              "<div>\n",
              "<style scoped>\n",
              "    .dataframe tbody tr th:only-of-type {\n",
              "        vertical-align: middle;\n",
              "    }\n",
              "\n",
              "    .dataframe tbody tr th {\n",
              "        vertical-align: top;\n",
              "    }\n",
              "\n",
              "    .dataframe thead th {\n",
              "        text-align: right;\n",
              "    }\n",
              "</style>\n",
              "<table border=\"1\" class=\"dataframe\">\n",
              "  <thead>\n",
              "    <tr style=\"text-align: right;\">\n",
              "      <th></th>\n",
              "      <th>sepal length (cm)</th>\n",
              "      <th>sepal width (cm)</th>\n",
              "      <th>petal length (cm)</th>\n",
              "      <th>petal width (cm)</th>\n",
              "      <th>Class</th>\n",
              "      <th>Predicted_class</th>\n",
              "    </tr>\n",
              "  </thead>\n",
              "  <tbody>\n",
              "    <tr>\n",
              "      <th>0</th>\n",
              "      <td>5.1</td>\n",
              "      <td>3.5</td>\n",
              "      <td>1.4</td>\n",
              "      <td>0.2</td>\n",
              "      <td>0</td>\n",
              "      <td>0</td>\n",
              "    </tr>\n",
              "    <tr>\n",
              "      <th>1</th>\n",
              "      <td>4.9</td>\n",
              "      <td>3.0</td>\n",
              "      <td>1.4</td>\n",
              "      <td>0.2</td>\n",
              "      <td>0</td>\n",
              "      <td>0</td>\n",
              "    </tr>\n",
              "    <tr>\n",
              "      <th>2</th>\n",
              "      <td>4.7</td>\n",
              "      <td>3.2</td>\n",
              "      <td>1.3</td>\n",
              "      <td>0.2</td>\n",
              "      <td>0</td>\n",
              "      <td>0</td>\n",
              "    </tr>\n",
              "    <tr>\n",
              "      <th>3</th>\n",
              "      <td>4.6</td>\n",
              "      <td>3.1</td>\n",
              "      <td>1.5</td>\n",
              "      <td>0.2</td>\n",
              "      <td>0</td>\n",
              "      <td>0</td>\n",
              "    </tr>\n",
              "    <tr>\n",
              "      <th>4</th>\n",
              "      <td>5.0</td>\n",
              "      <td>3.6</td>\n",
              "      <td>1.4</td>\n",
              "      <td>0.2</td>\n",
              "      <td>0</td>\n",
              "      <td>0</td>\n",
              "    </tr>\n",
              "    <tr>\n",
              "      <th>...</th>\n",
              "      <td>...</td>\n",
              "      <td>...</td>\n",
              "      <td>...</td>\n",
              "      <td>...</td>\n",
              "      <td>...</td>\n",
              "      <td>...</td>\n",
              "    </tr>\n",
              "    <tr>\n",
              "      <th>145</th>\n",
              "      <td>0.0</td>\n",
              "      <td>3.0</td>\n",
              "      <td>5.2</td>\n",
              "      <td>2.3</td>\n",
              "      <td>2</td>\n",
              "      <td>2</td>\n",
              "    </tr>\n",
              "    <tr>\n",
              "      <th>146</th>\n",
              "      <td>6.3</td>\n",
              "      <td>2.5</td>\n",
              "      <td>5.0</td>\n",
              "      <td>1.9</td>\n",
              "      <td>2</td>\n",
              "      <td>2</td>\n",
              "    </tr>\n",
              "    <tr>\n",
              "      <th>147</th>\n",
              "      <td>6.5</td>\n",
              "      <td>3.0</td>\n",
              "      <td>5.2</td>\n",
              "      <td>2.0</td>\n",
              "      <td>2</td>\n",
              "      <td>2</td>\n",
              "    </tr>\n",
              "    <tr>\n",
              "      <th>148</th>\n",
              "      <td>6.2</td>\n",
              "      <td>0.0</td>\n",
              "      <td>5.4</td>\n",
              "      <td>2.3</td>\n",
              "      <td>2</td>\n",
              "      <td>0</td>\n",
              "    </tr>\n",
              "    <tr>\n",
              "      <th>149</th>\n",
              "      <td>5.9</td>\n",
              "      <td>3.0</td>\n",
              "      <td>5.1</td>\n",
              "      <td>1.8</td>\n",
              "      <td>2</td>\n",
              "      <td>2</td>\n",
              "    </tr>\n",
              "  </tbody>\n",
              "</table>\n",
              "<p>150 rows × 6 columns</p>\n",
              "</div>"
            ],
            "text/plain": [
              "     sepal length (cm)  sepal width (cm)  ...  Class  Predicted_class\n",
              "0                  5.1               3.5  ...      0                0\n",
              "1                  4.9               3.0  ...      0                0\n",
              "2                  4.7               3.2  ...      0                0\n",
              "3                  4.6               3.1  ...      0                0\n",
              "4                  5.0               3.6  ...      0                0\n",
              "..                 ...               ...  ...    ...              ...\n",
              "145                0.0               3.0  ...      2                2\n",
              "146                6.3               2.5  ...      2                2\n",
              "147                6.5               3.0  ...      2                2\n",
              "148                6.2               0.0  ...      2                0\n",
              "149                5.9               3.0  ...      2                2\n",
              "\n",
              "[150 rows x 6 columns]"
            ]
          },
          "metadata": {},
          "execution_count": 15
        }
      ]
    },
    {
      "cell_type": "code",
      "metadata": {
        "id": "ermAdyldyA8l",
        "colab": {
          "base_uri": "https://localhost:8080/",
          "height": 423
        },
        "outputId": "bf64181e-c0c0-4595-9a5e-43af943053f7"
      },
      "source": [
        "# REPLACING 0 VALUES WITH NaN\n",
        "arr1=np.array(iris.iloc[:,:4])\n",
        "arr2=np.array(iris.iloc[:,4:6])\n",
        "iris_split=pd.DataFrame(data=arr1)\n",
        "iris_split.replace(to_replace=0,value=np.nan,inplace=True)\n",
        "arr1=np.array(iris_split)\n",
        "arr1=np.append(arr1,arr2,axis=1)\n",
        "df1=pd.DataFrame(data=arr1,columns=iris.columns)\n",
        "df1"
      ],
      "execution_count": null,
      "outputs": [
        {
          "output_type": "execute_result",
          "data": {
            "text/html": [
              "<div>\n",
              "<style scoped>\n",
              "    .dataframe tbody tr th:only-of-type {\n",
              "        vertical-align: middle;\n",
              "    }\n",
              "\n",
              "    .dataframe tbody tr th {\n",
              "        vertical-align: top;\n",
              "    }\n",
              "\n",
              "    .dataframe thead th {\n",
              "        text-align: right;\n",
              "    }\n",
              "</style>\n",
              "<table border=\"1\" class=\"dataframe\">\n",
              "  <thead>\n",
              "    <tr style=\"text-align: right;\">\n",
              "      <th></th>\n",
              "      <th>sepal length (cm)</th>\n",
              "      <th>sepal width (cm)</th>\n",
              "      <th>petal length (cm)</th>\n",
              "      <th>petal width (cm)</th>\n",
              "      <th>Class</th>\n",
              "      <th>Predicted_class</th>\n",
              "    </tr>\n",
              "  </thead>\n",
              "  <tbody>\n",
              "    <tr>\n",
              "      <th>0</th>\n",
              "      <td>5.1</td>\n",
              "      <td>3.5</td>\n",
              "      <td>1.4</td>\n",
              "      <td>0.2</td>\n",
              "      <td>0.0</td>\n",
              "      <td>0.0</td>\n",
              "    </tr>\n",
              "    <tr>\n",
              "      <th>1</th>\n",
              "      <td>4.9</td>\n",
              "      <td>3.0</td>\n",
              "      <td>1.4</td>\n",
              "      <td>0.2</td>\n",
              "      <td>0.0</td>\n",
              "      <td>0.0</td>\n",
              "    </tr>\n",
              "    <tr>\n",
              "      <th>2</th>\n",
              "      <td>4.7</td>\n",
              "      <td>3.2</td>\n",
              "      <td>1.3</td>\n",
              "      <td>0.2</td>\n",
              "      <td>0.0</td>\n",
              "      <td>0.0</td>\n",
              "    </tr>\n",
              "    <tr>\n",
              "      <th>3</th>\n",
              "      <td>4.6</td>\n",
              "      <td>3.1</td>\n",
              "      <td>1.5</td>\n",
              "      <td>0.2</td>\n",
              "      <td>0.0</td>\n",
              "      <td>0.0</td>\n",
              "    </tr>\n",
              "    <tr>\n",
              "      <th>4</th>\n",
              "      <td>5.0</td>\n",
              "      <td>3.6</td>\n",
              "      <td>1.4</td>\n",
              "      <td>0.2</td>\n",
              "      <td>0.0</td>\n",
              "      <td>0.0</td>\n",
              "    </tr>\n",
              "    <tr>\n",
              "      <th>...</th>\n",
              "      <td>...</td>\n",
              "      <td>...</td>\n",
              "      <td>...</td>\n",
              "      <td>...</td>\n",
              "      <td>...</td>\n",
              "      <td>...</td>\n",
              "    </tr>\n",
              "    <tr>\n",
              "      <th>145</th>\n",
              "      <td>NaN</td>\n",
              "      <td>3.0</td>\n",
              "      <td>5.2</td>\n",
              "      <td>2.3</td>\n",
              "      <td>2.0</td>\n",
              "      <td>2.0</td>\n",
              "    </tr>\n",
              "    <tr>\n",
              "      <th>146</th>\n",
              "      <td>6.3</td>\n",
              "      <td>2.5</td>\n",
              "      <td>5.0</td>\n",
              "      <td>1.9</td>\n",
              "      <td>2.0</td>\n",
              "      <td>2.0</td>\n",
              "    </tr>\n",
              "    <tr>\n",
              "      <th>147</th>\n",
              "      <td>6.5</td>\n",
              "      <td>3.0</td>\n",
              "      <td>5.2</td>\n",
              "      <td>2.0</td>\n",
              "      <td>2.0</td>\n",
              "      <td>2.0</td>\n",
              "    </tr>\n",
              "    <tr>\n",
              "      <th>148</th>\n",
              "      <td>6.2</td>\n",
              "      <td>NaN</td>\n",
              "      <td>5.4</td>\n",
              "      <td>2.3</td>\n",
              "      <td>2.0</td>\n",
              "      <td>0.0</td>\n",
              "    </tr>\n",
              "    <tr>\n",
              "      <th>149</th>\n",
              "      <td>5.9</td>\n",
              "      <td>3.0</td>\n",
              "      <td>5.1</td>\n",
              "      <td>1.8</td>\n",
              "      <td>2.0</td>\n",
              "      <td>2.0</td>\n",
              "    </tr>\n",
              "  </tbody>\n",
              "</table>\n",
              "<p>150 rows × 6 columns</p>\n",
              "</div>"
            ],
            "text/plain": [
              "     sepal length (cm)  sepal width (cm)  ...  Class  Predicted_class\n",
              "0                  5.1               3.5  ...    0.0              0.0\n",
              "1                  4.9               3.0  ...    0.0              0.0\n",
              "2                  4.7               3.2  ...    0.0              0.0\n",
              "3                  4.6               3.1  ...    0.0              0.0\n",
              "4                  5.0               3.6  ...    0.0              0.0\n",
              "..                 ...               ...  ...    ...              ...\n",
              "145                NaN               3.0  ...    2.0              2.0\n",
              "146                6.3               2.5  ...    2.0              2.0\n",
              "147                6.5               3.0  ...    2.0              2.0\n",
              "148                6.2               NaN  ...    2.0              0.0\n",
              "149                5.9               3.0  ...    2.0              2.0\n",
              "\n",
              "[150 rows x 6 columns]"
            ]
          },
          "metadata": {},
          "execution_count": 16
        }
      ]
    },
    {
      "cell_type": "code",
      "metadata": {
        "colab": {
          "base_uri": "https://localhost:8080/"
        },
        "id": "QCgzK5X2Ltl-",
        "outputId": "e39cc6ca-d9dd-449c-8c96-9a0e6ea09ad5"
      },
      "source": [
        "df1.isna().sum()"
      ],
      "execution_count": null,
      "outputs": [
        {
          "output_type": "execute_result",
          "data": {
            "text/plain": [
              "sepal length (cm)    13\n",
              "sepal width (cm)      6\n",
              "petal length (cm)     5\n",
              "petal width (cm)      6\n",
              "Class                 0\n",
              "Predicted_class       0\n",
              "dtype: int64"
            ]
          },
          "metadata": {},
          "execution_count": 17
        }
      ]
    },
    {
      "cell_type": "code",
      "metadata": {
        "id": "TYxWIAG_Lz2y"
      },
      "source": [
        "# (i) FILL MISSING VALUES WITH MEAN\n",
        "for col in (df1.columns[:4]):\n",
        "  mean_val=df1[col].mean(skipna=True)\n",
        "  df1[col].fillna(mean_val,inplace=True)\n",
        "#df1"
      ],
      "execution_count": null,
      "outputs": []
    },
    {
      "cell_type": "code",
      "metadata": {
        "id": "iSN2InOiMLUr"
      },
      "source": [
        "# (ii) FILL MISSING VALUES WITH MEDIAN\n",
        "for col in (df1.columns[:4]):\n",
        "  median_val=df1[col].median(skipna=True)\n",
        "  df1[col].fillna(median_val,inplace=True)\n",
        "#df1"
      ],
      "execution_count": null,
      "outputs": []
    },
    {
      "cell_type": "code",
      "metadata": {
        "id": "FOXlFJxkMULG"
      },
      "source": [
        "# (iii) FILL MISSING VALUES WITH MODE\n",
        "for col in (df1.columns[:4]):\n",
        "  mode_val=df1[col].mode()[0]\n",
        "  df1[col].fillna(mode_val,inplace=True)\n",
        "#df1"
      ],
      "execution_count": null,
      "outputs": []
    },
    {
      "cell_type": "code",
      "metadata": {
        "id": "URpATnp0MdQ-"
      },
      "source": [
        "# (iv) FILL MISSING VALUES WITH MINIMUM\n",
        "for col in (df1.columns[:4]):\n",
        "  mode_val=df1[\"sepal length (cm)\"].min()\n",
        "  df1[col].fillna(mode_val,inplace=True)\n",
        "#df1"
      ],
      "execution_count": null,
      "outputs": []
    },
    {
      "cell_type": "code",
      "metadata": {
        "id": "-SnezCMgMkQl"
      },
      "source": [
        "# (v) FILL MISSING VALUES WITH MAXIMUM\n",
        "for col in (df1.columns[:4]):\n",
        "  mode_val=df1[\"sepal length (cm)\"].max()\n",
        "  df1[col].fillna(mode_val,inplace=True)\n",
        "#df1"
      ],
      "execution_count": null,
      "outputs": []
    },
    {
      "cell_type": "code",
      "metadata": {
        "colab": {
          "base_uri": "https://localhost:8080/",
          "height": 174
        },
        "id": "fzbQfwqcMrTS",
        "outputId": "179d5924-2c52-4ad4-a7b7-c824dec7afae"
      },
      "source": [
        "#Q2\n",
        "\n",
        "Y_act=np.array(df1[\"Class\"])\n",
        "Y_pred=np.array(df1[\"Predicted_class\"])\n",
        "confusion=pd.crosstab(df1['Class'], df1['Predicted_class'], rownames=['Actual'], colnames=['Predicted'])\n",
        "confusion"
      ],
      "execution_count": null,
      "outputs": [
        {
          "output_type": "execute_result",
          "data": {
            "text/html": [
              "<div>\n",
              "<style scoped>\n",
              "    .dataframe tbody tr th:only-of-type {\n",
              "        vertical-align: middle;\n",
              "    }\n",
              "\n",
              "    .dataframe tbody tr th {\n",
              "        vertical-align: top;\n",
              "    }\n",
              "\n",
              "    .dataframe thead th {\n",
              "        text-align: right;\n",
              "    }\n",
              "</style>\n",
              "<table border=\"1\" class=\"dataframe\">\n",
              "  <thead>\n",
              "    <tr style=\"text-align: right;\">\n",
              "      <th>Predicted</th>\n",
              "      <th>0.0</th>\n",
              "      <th>1.0</th>\n",
              "      <th>2.0</th>\n",
              "    </tr>\n",
              "    <tr>\n",
              "      <th>Actual</th>\n",
              "      <th></th>\n",
              "      <th></th>\n",
              "      <th></th>\n",
              "    </tr>\n",
              "  </thead>\n",
              "  <tbody>\n",
              "    <tr>\n",
              "      <th>0.0</th>\n",
              "      <td>46</td>\n",
              "      <td>2</td>\n",
              "      <td>2</td>\n",
              "    </tr>\n",
              "    <tr>\n",
              "      <th>1.0</th>\n",
              "      <td>0</td>\n",
              "      <td>45</td>\n",
              "      <td>5</td>\n",
              "    </tr>\n",
              "    <tr>\n",
              "      <th>2.0</th>\n",
              "      <td>2</td>\n",
              "      <td>4</td>\n",
              "      <td>44</td>\n",
              "    </tr>\n",
              "  </tbody>\n",
              "</table>\n",
              "</div>"
            ],
            "text/plain": [
              "Predicted  0.0  1.0  2.0\n",
              "Actual                  \n",
              "0.0         46    2    2\n",
              "1.0          0   45    5\n",
              "2.0          2    4   44"
            ]
          },
          "metadata": {},
          "execution_count": 23
        }
      ]
    },
    {
      "cell_type": "code",
      "metadata": {
        "colab": {
          "base_uri": "https://localhost:8080/"
        },
        "id": "4FVLjNKlNQx7",
        "outputId": "e25be1ce-6a81-4aa7-f169-ae768ad74f11"
      },
      "source": [
        "# SETOSA class\n",
        "tp=0\n",
        "tn=0\n",
        "fn=0\n",
        "fp=0\n",
        "tp=confusion[0][0]\n",
        "for i in [1,2]:\n",
        "  for j in [1,2]:\n",
        "    tn+=confusion[j][i]\n",
        "for i in [1,2]:\n",
        "  fp+=confusion[0][i]\n",
        "for i in [1,2]:\n",
        "  fn+=confusion[i][0]\n",
        "precision=tp/(tp+fp)\n",
        "recall=tp/(tp+fn)\n",
        "print(\"TPR for setosa class :\",tp/(tp+fn))\n",
        "print(\"TNR for setosa class :\",tn/(fp+tn))\n",
        "print(\"FNR for setosa class :\",fn/(tp+fn))\n",
        "print(\"FPR for setosa class :\",fp/(fp+tn))\n",
        "print(\"ACCURACY SCORE :\",(tp+tn)/(tp+tn+fp+fn))\n",
        "print(\"F- 1 score :\",2*(precision*recall)/(precision+recall))\n",
        "print(\"Taking diffrent values for beta :\")\n",
        "beta_val=[0.5,2,7,5,10]\n",
        "for i in beta_val:\n",
        "  print(\"F-\",i,\"score :\",(1+i*i)*(precision*recall)/((i*i*precision)+recall))"
      ],
      "execution_count": null,
      "outputs": [
        {
          "output_type": "stream",
          "name": "stdout",
          "text": [
            "TPR for setosa class : 0.92\n",
            "TNR for setosa class : 0.98\n",
            "FNR for setosa class : 0.08\n",
            "FPR for setosa class : 0.02\n",
            "ACCURACY SCORE : 0.96\n",
            "F- 1 score : 0.9387755102040817\n",
            "Taking diffrent values for beta :\n",
            "F- 0.5 score : 0.9504132231404958\n",
            "F- 2 score : 0.9274193548387095\n",
            "F- 7 score : 0.9207365892714171\n",
            "F- 5 score : 0.921417565485362\n",
            "F- 10 score : 0.920364500792393\n"
          ]
        }
      ]
    },
    {
      "cell_type": "code",
      "metadata": {
        "colab": {
          "base_uri": "https://localhost:8080/"
        },
        "id": "aUbKEf4_NTq2",
        "outputId": "0f3fe794-e797-4fe7-9c34-e2bd4df390de"
      },
      "source": [
        "# VERSICOLOR class\n",
        "tp=0\n",
        "tn=0\n",
        "fn=0\n",
        "fp=0\n",
        "tp=confusion[1][1]\n",
        "for i in [0,2]:\n",
        "  for j in [0,2]:\n",
        "    tn+=confusion[j][i]\n",
        "for i in [0,2]:\n",
        "  fn+=confusion[i][1]\n",
        "for i in [0,2]:\n",
        "  fp+=confusion[1][i]\n",
        "precision=tp/(tp+fp)\n",
        "recall=tp/(tp+fn)\n",
        "print(\"TPR for versicolor class :\",tp/(tp+fn))\n",
        "print(\"TNR for versicolor class :\",tn/(fp+tn))\n",
        "print(\"FNR for versicolor class :\",fn/(tp+fn))\n",
        "print(\"FPR for versicolor class :\",fp/(fp+tn))\n",
        "print(\"ACCURACY SCORE :\",(tp+tn)/(tp+tn+fp+fn))\n",
        "print(\"F- 1 score :\",2*(precision*recall)/(precision+recall))\n",
        "print(\"Taking diffrent values for beta :\")\n",
        "beta_val=[0.5,2,7,5,10]\n",
        "for i in beta_val:\n",
        "  print(\"F-\",i,\"score :\",(1+i*i)*(precision*recall)/((i*i*precision)+recall))"
      ],
      "execution_count": null,
      "outputs": [
        {
          "output_type": "stream",
          "name": "stdout",
          "text": [
            "TPR for versicolor class : 0.9\n",
            "TNR for versicolor class : 0.94\n",
            "FNR for versicolor class : 0.1\n",
            "FPR for versicolor class : 0.06\n",
            "ACCURACY SCORE : 0.9266666666666666\n",
            "F- 1 score : 0.8910891089108911\n",
            "Taking diffrent values for beta :\n",
            "F- 0.5 score : 0.8858267716535432\n",
            "F- 2 score : 0.8964143426294819\n",
            "F- 7 score : 0.899640143942423\n",
            "F- 5 score : 0.8993082244427363\n",
            "F- 10 score : 0.8998218174618886\n"
          ]
        }
      ]
    },
    {
      "cell_type": "code",
      "metadata": {
        "colab": {
          "base_uri": "https://localhost:8080/"
        },
        "id": "bO3c6jAWNWWa",
        "outputId": "df7999a9-6227-4d24-b2f7-d4e879611651"
      },
      "source": [
        "# VIRGINICA class\n",
        "tp=0\n",
        "tn=0\n",
        "fn=0\n",
        "fp=0\n",
        "tp=confusion[2][2]\n",
        "for i in [0,1]:\n",
        "  for j in [0,1]:\n",
        "    tn+=confusion[j][i]\n",
        "for i in [0,1]:\n",
        "  fp+=confusion[2][i]\n",
        "for i in [0,1]:\n",
        "  fn+=confusion[i][2]\n",
        "precision=tp/(tp+fp)\n",
        "recall=tp/(tp+fn)\n",
        "print(\"TPR for virginica class :\",tp/(tp+fn))\n",
        "print(\"TNR for virginica class :\",tn/(fp+tn))\n",
        "print(\"FNR for virginica class :\",fn/(tp+fn))\n",
        "print(\"FPR for virginica class :\",fp/(fp+tn))\n",
        "print(\"ACCURACY SCORE :\",(tp+tn)/(tp+tn+fp+fn))\n",
        "print(\"F- 1 score :\",2*(precision*recall)/(precision+recall))\n",
        "print(\"Taking diffrent values for beta :\")\n",
        "beta_val=[0.5,2,7,5,10]\n",
        "for i in beta_val:\n",
        "  print(\"F-\",i,\"score :\",(1+i*i)*(precision*recall)/((i*i*precision)+recall))"
      ],
      "execution_count": null,
      "outputs": [
        {
          "output_type": "stream",
          "name": "stdout",
          "text": [
            "TPR for virginica class : 0.88\n",
            "TNR for virginica class : 0.93\n",
            "FNR for virginica class : 0.12\n",
            "FPR for virginica class : 0.07\n",
            "ACCURACY SCORE : 0.9133333333333333\n",
            "F- 1 score : 0.8712871287128714\n",
            "Taking diffrent values for beta :\n",
            "F- 0.5 score : 0.8661417322834646\n",
            "F- 2 score : 0.8764940239043825\n",
            "F- 7 score : 0.8796481407437025\n",
            "F- 5 score : 0.8793235972328979\n",
            "F- 10 score : 0.8798257770738468\n"
          ]
        }
      ]
    },
    {
      "cell_type": "code",
      "metadata": {
        "colab": {
          "base_uri": "https://localhost:8080/"
        },
        "id": "WAYsF2UtNZso",
        "outputId": "4ebae8bc-1a04-452e-cbe0-bef5f95389bc"
      },
      "source": [
        "#Q3\n",
        "\n",
        "# Making setosa class as positive and rest of the classes as negative\n",
        "target=iris.iloc[:,4:6]\n",
        "for i in target.columns:\n",
        "  for j in range(len(target)):\n",
        "    if target[i][j]!=0:\n",
        "      target[i][j]=-1\n",
        "confusion=pd.crosstab(target['Class'], target['Predicted_class'], rownames=['Actual'], colnames=['Predicted'])\n",
        "confusion=np.array(confusion)\n",
        "tp=confusion[1][1]\n",
        "tn=confusion[0][0]\n",
        "fn=confusion[1][0]\n",
        "fp=confusion[0][1]\n",
        "print(\"ACCURACY SCORE :\",(tp+tn)/(tp+tn+fp+fn))"
      ],
      "execution_count": null,
      "outputs": [
        {
          "output_type": "stream",
          "name": "stdout",
          "text": [
            "ACCURACY SCORE : 0.96\n"
          ]
        }
      ]
    },
    {
      "cell_type": "code",
      "metadata": {
        "colab": {
          "base_uri": "https://localhost:8080/"
        },
        "id": "7wRr-mfVNdwI",
        "outputId": "0eccc04f-bbb7-450a-b200-52dd12ee3656"
      },
      "source": [
        "# Making Versicolor class as positive and rest of the classes as negative\n",
        "target=iris.iloc[:,4:6]\n",
        "for i in target.columns:\n",
        "  for j in range(len(target)):\n",
        "    if target[i][j]!=1:\n",
        "      target[i][j]=-1\n",
        "confusion=pd.crosstab(target['Class'], target['Predicted_class'], rownames=['Actual'], colnames=['Predicted'])\n",
        "confusion=np.array(confusion)\n",
        "tp=confusion[1][1]\n",
        "tn=confusion[0][0]\n",
        "fn=confusion[1][0]\n",
        "fp=confusion[0][1]\n",
        "print(\"ACCURACY SCORE :\",(tp+tn)/(tp+tn+fp+fn))"
      ],
      "execution_count": null,
      "outputs": [
        {
          "output_type": "stream",
          "name": "stdout",
          "text": [
            "ACCURACY SCORE : 0.9266666666666666\n"
          ]
        }
      ]
    },
    {
      "cell_type": "code",
      "metadata": {
        "colab": {
          "base_uri": "https://localhost:8080/"
        },
        "id": "5VN7EcCeOWvW",
        "outputId": "05f77ac5-48d2-46be-cf83-0babe7d6c2ac"
      },
      "source": [
        "# Making Virginica class as positive and rest of the classes as negative\n",
        "target=iris.iloc[:,4:6]\n",
        "for i in target.columns:\n",
        "  for j in range(len(target)):\n",
        "    if target[i][j]!=2:\n",
        "      target[i][j]=-1\n",
        "confusion=pd.crosstab(target['Class'], target['Predicted_class'], rownames=['Actual'], colnames=['Predicted'])\n",
        "confusion=np.array(confusion)\n",
        "tp=confusion[1][1]\n",
        "tn=confusion[0][0]\n",
        "fn=confusion[1][0]\n",
        "fp=confusion[0][1]\n",
        "print(\"ACCURACY SCORE :\",(tp+tn)/(tp+tn+fp+fn))"
      ],
      "execution_count": null,
      "outputs": [
        {
          "output_type": "stream",
          "name": "stdout",
          "text": [
            "ACCURACY SCORE : 0.9133333333333333\n"
          ]
        }
      ]
    },
    {
      "cell_type": "code",
      "metadata": {
        "id": "CHW4n5TWOZU_"
      },
      "source": [
        "#Q4\n",
        "\n",
        "# Normalizing using Min-Max Scaler\n",
        "for i in range(len(df1.columns)-2):\n",
        "  mx=df1.iloc[:,i].max()\n",
        "  mn=df1.iloc[:,i].min()\n",
        "  for j in range(len(df1)):\n",
        "    df1.iloc[j][i]=(df1.iloc[j][i]-mn)/(mx-mn)\n",
        "df1.to_csv(\"normalized_file.csv\")"
      ],
      "execution_count": null,
      "outputs": []
    },
    {
      "cell_type": "code",
      "metadata": {
        "colab": {
          "base_uri": "https://localhost:8080/"
        },
        "id": "sASb019dOc4n",
        "outputId": "e9c6de5b-5f17-42c8-955f-a367fe2d9000"
      },
      "source": [
        "#Q5\n",
        "\n",
        "X=np.array(df1.iloc[:,:4])\n",
        "features=X.T\n",
        "cov_matrix=np.cov(features)\n",
        "print(\"Covariance matrix :\")\n",
        "print(cov_matrix)\n",
        "values, vectors=np.linalg.eig(cov_matrix)\n",
        "print(\"\\nEigen values :\")\n",
        "print(values[:5])\n",
        "print(\"\\nEigen vectors :\")\n",
        "print(vectors[:5])"
      ],
      "execution_count": null,
      "outputs": [
        {
          "output_type": "stream",
          "name": "stdout",
          "text": [
            "Covariance matrix :\n",
            "[[ 0.04760265 -0.00401611  0.0498402   0.05168033]\n",
            " [-0.00401611  0.03671246 -0.02523812 -0.02299838]\n",
            " [ 0.0498402  -0.02523812  0.08595258  0.08476252]\n",
            " [ 0.05168033 -0.02299838  0.08476252  0.09615771]]\n",
            "\n",
            "Eigen values :\n",
            "[0.21414162 0.03581036 0.01110677 0.00536664]\n",
            "\n",
            "Eigen vectors :\n",
            "[[-0.39297383  0.47047405  0.75322247  0.23849873]\n",
            " [ 0.18190813  0.8796852  -0.39122818 -0.20000975]\n",
            " [-0.62075763 -0.0651232  -0.03606362 -0.78046034]\n",
            " [-0.65356022  0.0238136  -0.52753753  0.54221408]]\n"
          ]
        }
      ]
    },
    {
      "cell_type": "code",
      "metadata": {
        "colab": {
          "base_uri": "https://localhost:8080/",
          "height": 206
        },
        "id": "zgHzfuxFOgPL",
        "outputId": "96b29939-4f6d-4fdd-9e61-9ddf6aa2f6c3"
      },
      "source": [
        "pc1=X.dot(vectors.T[0])\n",
        "pc2=X.dot(vectors.T[1])\n",
        "res=pd.DataFrame(pc1,columns=[\"PC1\"])\n",
        "res[\"PC2\"]=pc2\n",
        "res.head()"
      ],
      "execution_count": null,
      "outputs": [
        {
          "output_type": "execute_result",
          "data": {
            "text/html": [
              "<div>\n",
              "<style scoped>\n",
              "    .dataframe tbody tr th:only-of-type {\n",
              "        vertical-align: middle;\n",
              "    }\n",
              "\n",
              "    .dataframe tbody tr th {\n",
              "        vertical-align: top;\n",
              "    }\n",
              "\n",
              "    .dataframe thead th {\n",
              "        text-align: right;\n",
              "    }\n",
              "</style>\n",
              "<table border=\"1\" class=\"dataframe\">\n",
              "  <thead>\n",
              "    <tr style=\"text-align: right;\">\n",
              "      <th></th>\n",
              "      <th>PC1</th>\n",
              "      <th>PC2</th>\n",
              "    </tr>\n",
              "  </thead>\n",
              "  <tbody>\n",
              "    <tr>\n",
              "      <th>0</th>\n",
              "      <td>-0.049153</td>\n",
              "      <td>0.620941</td>\n",
              "    </tr>\n",
              "    <tr>\n",
              "      <th>1</th>\n",
              "      <td>-0.068664</td>\n",
              "      <td>0.394875</td>\n",
              "    </tr>\n",
              "    <tr>\n",
              "      <th>2</th>\n",
              "      <td>-0.019774</td>\n",
              "      <td>0.449813</td>\n",
              "    </tr>\n",
              "    <tr>\n",
              "      <th>3</th>\n",
              "      <td>-0.038169</td>\n",
              "      <td>0.394551</td>\n",
              "    </tr>\n",
              "    <tr>\n",
              "      <th>4</th>\n",
              "      <td>-0.029969</td>\n",
              "      <td>0.647858</td>\n",
              "    </tr>\n",
              "  </tbody>\n",
              "</table>\n",
              "</div>"
            ],
            "text/plain": [
              "        PC1       PC2\n",
              "0 -0.049153  0.620941\n",
              "1 -0.068664  0.394875\n",
              "2 -0.019774  0.449813\n",
              "3 -0.038169  0.394551\n",
              "4 -0.029969  0.647858"
            ]
          },
          "metadata": {},
          "execution_count": 32
        }
      ]
    },
    {
      "cell_type": "code",
      "metadata": {
        "colab": {
          "base_uri": "https://localhost:8080/",
          "height": 423
        },
        "id": "8znrUdN8Oisf",
        "outputId": "9215d615-7033-4bae-c78f-cb9fbaf25159"
      },
      "source": [
        "#Q6\n",
        "\n",
        "ndf=pd.read_csv(\"/content/Boston_Housing_01.csv\")\n",
        "ndf"
      ],
      "execution_count": null,
      "outputs": [
        {
          "output_type": "execute_result",
          "data": {
            "text/html": [
              "<div>\n",
              "<style scoped>\n",
              "    .dataframe tbody tr th:only-of-type {\n",
              "        vertical-align: middle;\n",
              "    }\n",
              "\n",
              "    .dataframe tbody tr th {\n",
              "        vertical-align: top;\n",
              "    }\n",
              "\n",
              "    .dataframe thead th {\n",
              "        text-align: right;\n",
              "    }\n",
              "</style>\n",
              "<table border=\"1\" class=\"dataframe\">\n",
              "  <thead>\n",
              "    <tr style=\"text-align: right;\">\n",
              "      <th></th>\n",
              "      <th>CRIM</th>\n",
              "      <th>ZN</th>\n",
              "      <th>INDUS</th>\n",
              "      <th>CHAS</th>\n",
              "      <th>NOX</th>\n",
              "      <th>RM</th>\n",
              "      <th>AGE</th>\n",
              "      <th>DIS</th>\n",
              "      <th>RAD</th>\n",
              "      <th>TAX</th>\n",
              "      <th>PTRATIO</th>\n",
              "      <th>B</th>\n",
              "      <th>LSTAT</th>\n",
              "      <th>MEDV</th>\n",
              "      <th>Predicted</th>\n",
              "    </tr>\n",
              "  </thead>\n",
              "  <tbody>\n",
              "    <tr>\n",
              "      <th>0</th>\n",
              "      <td>0.00632</td>\n",
              "      <td>18.0</td>\n",
              "      <td>2.31</td>\n",
              "      <td>0</td>\n",
              "      <td>0.538</td>\n",
              "      <td>6.575</td>\n",
              "      <td>65.2</td>\n",
              "      <td>4.0900</td>\n",
              "      <td>1</td>\n",
              "      <td>296</td>\n",
              "      <td>15.3</td>\n",
              "      <td>396.90</td>\n",
              "      <td>4.98</td>\n",
              "      <td>24.0</td>\n",
              "      <td>27.0</td>\n",
              "    </tr>\n",
              "    <tr>\n",
              "      <th>1</th>\n",
              "      <td>0.02731</td>\n",
              "      <td>0.0</td>\n",
              "      <td>7.07</td>\n",
              "      <td>0</td>\n",
              "      <td>0.469</td>\n",
              "      <td>6.421</td>\n",
              "      <td>78.9</td>\n",
              "      <td>4.9671</td>\n",
              "      <td>2</td>\n",
              "      <td>242</td>\n",
              "      <td>17.8</td>\n",
              "      <td>396.90</td>\n",
              "      <td>9.14</td>\n",
              "      <td>21.6</td>\n",
              "      <td>22.6</td>\n",
              "    </tr>\n",
              "    <tr>\n",
              "      <th>2</th>\n",
              "      <td>0.02729</td>\n",
              "      <td>0.0</td>\n",
              "      <td>7.07</td>\n",
              "      <td>0</td>\n",
              "      <td>0.469</td>\n",
              "      <td>7.185</td>\n",
              "      <td>61.1</td>\n",
              "      <td>4.9671</td>\n",
              "      <td>2</td>\n",
              "      <td>242</td>\n",
              "      <td>17.8</td>\n",
              "      <td>392.83</td>\n",
              "      <td>4.03</td>\n",
              "      <td>34.7</td>\n",
              "      <td>32.7</td>\n",
              "    </tr>\n",
              "    <tr>\n",
              "      <th>3</th>\n",
              "      <td>0.03237</td>\n",
              "      <td>0.0</td>\n",
              "      <td>2.18</td>\n",
              "      <td>0</td>\n",
              "      <td>0.458</td>\n",
              "      <td>6.998</td>\n",
              "      <td>45.8</td>\n",
              "      <td>6.0622</td>\n",
              "      <td>3</td>\n",
              "      <td>222</td>\n",
              "      <td>18.7</td>\n",
              "      <td>394.63</td>\n",
              "      <td>2.94</td>\n",
              "      <td>33.4</td>\n",
              "      <td>32.4</td>\n",
              "    </tr>\n",
              "    <tr>\n",
              "      <th>4</th>\n",
              "      <td>0.06905</td>\n",
              "      <td>0.0</td>\n",
              "      <td>2.18</td>\n",
              "      <td>0</td>\n",
              "      <td>0.458</td>\n",
              "      <td>7.147</td>\n",
              "      <td>54.2</td>\n",
              "      <td>6.0622</td>\n",
              "      <td>3</td>\n",
              "      <td>222</td>\n",
              "      <td>18.7</td>\n",
              "      <td>396.90</td>\n",
              "      <td>5.33</td>\n",
              "      <td>36.2</td>\n",
              "      <td>34.2</td>\n",
              "    </tr>\n",
              "    <tr>\n",
              "      <th>...</th>\n",
              "      <td>...</td>\n",
              "      <td>...</td>\n",
              "      <td>...</td>\n",
              "      <td>...</td>\n",
              "      <td>...</td>\n",
              "      <td>...</td>\n",
              "      <td>...</td>\n",
              "      <td>...</td>\n",
              "      <td>...</td>\n",
              "      <td>...</td>\n",
              "      <td>...</td>\n",
              "      <td>...</td>\n",
              "      <td>...</td>\n",
              "      <td>...</td>\n",
              "      <td>...</td>\n",
              "    </tr>\n",
              "    <tr>\n",
              "      <th>501</th>\n",
              "      <td>0.06263</td>\n",
              "      <td>0.0</td>\n",
              "      <td>11.93</td>\n",
              "      <td>0</td>\n",
              "      <td>0.573</td>\n",
              "      <td>6.593</td>\n",
              "      <td>69.1</td>\n",
              "      <td>2.4786</td>\n",
              "      <td>1</td>\n",
              "      <td>273</td>\n",
              "      <td>21.0</td>\n",
              "      <td>391.99</td>\n",
              "      <td>9.67</td>\n",
              "      <td>22.4</td>\n",
              "      <td>21.4</td>\n",
              "    </tr>\n",
              "    <tr>\n",
              "      <th>502</th>\n",
              "      <td>0.04527</td>\n",
              "      <td>0.0</td>\n",
              "      <td>11.93</td>\n",
              "      <td>0</td>\n",
              "      <td>0.573</td>\n",
              "      <td>6.120</td>\n",
              "      <td>76.7</td>\n",
              "      <td>2.2875</td>\n",
              "      <td>1</td>\n",
              "      <td>273</td>\n",
              "      <td>21.0</td>\n",
              "      <td>396.90</td>\n",
              "      <td>9.08</td>\n",
              "      <td>20.6</td>\n",
              "      <td>19.6</td>\n",
              "    </tr>\n",
              "    <tr>\n",
              "      <th>503</th>\n",
              "      <td>0.06076</td>\n",
              "      <td>0.0</td>\n",
              "      <td>11.93</td>\n",
              "      <td>0</td>\n",
              "      <td>0.573</td>\n",
              "      <td>6.976</td>\n",
              "      <td>91.0</td>\n",
              "      <td>2.1675</td>\n",
              "      <td>1</td>\n",
              "      <td>273</td>\n",
              "      <td>21.0</td>\n",
              "      <td>396.90</td>\n",
              "      <td>5.64</td>\n",
              "      <td>23.9</td>\n",
              "      <td>24.9</td>\n",
              "    </tr>\n",
              "    <tr>\n",
              "      <th>504</th>\n",
              "      <td>0.10959</td>\n",
              "      <td>0.0</td>\n",
              "      <td>11.93</td>\n",
              "      <td>0</td>\n",
              "      <td>0.573</td>\n",
              "      <td>6.794</td>\n",
              "      <td>89.3</td>\n",
              "      <td>2.3889</td>\n",
              "      <td>1</td>\n",
              "      <td>273</td>\n",
              "      <td>21.0</td>\n",
              "      <td>393.45</td>\n",
              "      <td>6.48</td>\n",
              "      <td>22.0</td>\n",
              "      <td>19.0</td>\n",
              "    </tr>\n",
              "    <tr>\n",
              "      <th>505</th>\n",
              "      <td>0.04741</td>\n",
              "      <td>0.0</td>\n",
              "      <td>11.93</td>\n",
              "      <td>0</td>\n",
              "      <td>0.573</td>\n",
              "      <td>6.030</td>\n",
              "      <td>80.8</td>\n",
              "      <td>2.5050</td>\n",
              "      <td>1</td>\n",
              "      <td>273</td>\n",
              "      <td>21.0</td>\n",
              "      <td>396.90</td>\n",
              "      <td>7.88</td>\n",
              "      <td>11.9</td>\n",
              "      <td>12.9</td>\n",
              "    </tr>\n",
              "  </tbody>\n",
              "</table>\n",
              "<p>506 rows × 15 columns</p>\n",
              "</div>"
            ],
            "text/plain": [
              "        CRIM    ZN  INDUS  CHAS    NOX  ...  PTRATIO       B  LSTAT  MEDV  Predicted\n",
              "0    0.00632  18.0   2.31     0  0.538  ...     15.3  396.90   4.98  24.0       27.0\n",
              "1    0.02731   0.0   7.07     0  0.469  ...     17.8  396.90   9.14  21.6       22.6\n",
              "2    0.02729   0.0   7.07     0  0.469  ...     17.8  392.83   4.03  34.7       32.7\n",
              "3    0.03237   0.0   2.18     0  0.458  ...     18.7  394.63   2.94  33.4       32.4\n",
              "4    0.06905   0.0   2.18     0  0.458  ...     18.7  396.90   5.33  36.2       34.2\n",
              "..       ...   ...    ...   ...    ...  ...      ...     ...    ...   ...        ...\n",
              "501  0.06263   0.0  11.93     0  0.573  ...     21.0  391.99   9.67  22.4       21.4\n",
              "502  0.04527   0.0  11.93     0  0.573  ...     21.0  396.90   9.08  20.6       19.6\n",
              "503  0.06076   0.0  11.93     0  0.573  ...     21.0  396.90   5.64  23.9       24.9\n",
              "504  0.10959   0.0  11.93     0  0.573  ...     21.0  393.45   6.48  22.0       19.0\n",
              "505  0.04741   0.0  11.93     0  0.573  ...     21.0  396.90   7.88  11.9       12.9\n",
              "\n",
              "[506 rows x 15 columns]"
            ]
          },
          "metadata": {},
          "execution_count": 33
        }
      ]
    },
    {
      "cell_type": "code",
      "metadata": {
        "colab": {
          "base_uri": "https://localhost:8080/",
          "height": 614
        },
        "id": "UuxvYrJ0OmUH",
        "outputId": "f2a84aab-254c-4897-eee1-7149e52b4e02"
      },
      "source": [
        "ndf1=ndf.iloc[:,:13]\n",
        "print(\"Correlation visualisation using heatmap -\")\n",
        "plt.figure(figsize=(15,10))\n",
        "sns.heatmap(ndf1.corr(),annot=True)\n",
        "plt.show()"
      ],
      "execution_count": null,
      "outputs": [
        {
          "output_type": "stream",
          "name": "stdout",
          "text": [
            "Correlation visualisation using heatmap -\n"
          ]
        },
        {
          "output_type": "display_data",
          "data": {
            "image/png": "[encoded data removed]",
            "text/plain": [
              "<Figure size 1080x720 with 2 Axes>"
            ]
          },
          "metadata": {
            "needs_background": "light"
          }
        }
      ]
    },
    {
      "cell_type": "code",
      "metadata": {
        "colab": {
          "base_uri": "https://localhost:8080/"
        },
        "id": "GS3EYwHqOqKc",
        "outputId": "740b4ee9-cca4-4275-8241-428de2be9dea"
      },
      "source": [
        "from sklearn.metrics import mean_squared_error\n",
        "from sklearn.metrics import accuracy_score\n",
        "print(\"Mean Squared Error :\",end=\" \")\n",
        "mse=mean_squared_error(ndf['MEDV'], ndf['Predicted'])\n",
        "print(mse)\n",
        "\n",
        "print(\"\\nRoot Mean Squared Error :\",np.sqrt(mse))\n",
        "\n",
        "ndf['diff']=abs(ndf['MEDV']-ndf['Predicted'])\n",
        "ndf[\"correct\"]=np.nan\n",
        "\n",
        "for i in range(len(ndf)):\n",
        "  if ndf['diff'][i]<1:\n",
        "    ndf['correct'][i]=1\n",
        "\n",
        "print(\"\\nAccuracy : \",ndf['correct'].sum()/506)\n",
        "print(\"\\n\")"
      ],
      "execution_count": null,
      "outputs": [
        {
          "output_type": "stream",
          "name": "stdout",
          "text": [
            "Mean Squared Error : 3.964426877470356\n",
            "\n",
            "Root Mean Squared Error : 1.9910868583440442\n",
            "\n",
            "Accuracy :  0.15019762845849802\n",
            "\n",
            "\n"
          ]
        },
        {
          "output_type": "stream",
          "name": "stderr",
          "text": [
            "/usr/local/lib/python3.7/dist-packages/ipykernel_launcher.py:14: SettingWithCopyWarning: \n",
            "A value is trying to be set on a copy of a slice from a DataFrame\n",
            "\n",
            "See the caveats in the documentation: https://pandas.pydata.org/pandas-docs/stable/user_guide/indexing.html#returning-a-view-versus-a-copy\n",
            "  \n"
          ]
        }
      ]
    },
    {
      "cell_type": "code",
      "metadata": {
        "id": "fNrGLJeSOzmf"
      },
      "source": [
        ""
      ],
      "execution_count": null,
      "outputs": []
    }
  ]
}