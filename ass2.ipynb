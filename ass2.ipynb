{
  "nbformat": 4,
  "nbformat_minor": 0,
  "metadata": {
    "colab": {
      "name": "DataScience_Assignment2.ipynb",
      "provenance": [],
      "authorship_tag": "ABX9TyNT3frJZHdXVxgm6wLiSsSa",
      "include_colab_link": true
    },
    "kernelspec": {
      "name": "python3",
      "display_name": "Python 3"
    },
    "language_info": {
      "name": "python"
    }
  },
  "cells": [
    {
      "cell_type": "markdown",
      "metadata": {
        "id": "view-in-github",
        "colab_type": "text"
      },
      "source": [
        "<a href=\"https://colab.research.google.com/github/7ayush/FiveSem/blob/main/DataScience_Assignment2.ipynb\" target=\"_parent\"><img src=\"https://colab.research.google.com/assets/colab-badge.svg\" alt=\"Open In Colab\"/></a>"
      ]
    },
    {
      "cell_type": "code",
      "metadata": {
        "id": "3VxEJw-zzLR8"
      },
      "source": [
        "class emp:\n",
        "  def __init__(self,empid=None,empname=None,points=None,group=None,avgpoints=None):\n",
        "    self.empid=empid\n",
        "    self.empname=empname\n",
        "    self.points=points\n",
        "    self.group=group\n",
        "    self.avgpoints=avgpoints\n",
        "  \n",
        "  def addPoints(self,x):\n",
        "    self.points+=x\n",
        " \n",
        "  def removePoints(self,x):\n",
        "    self.points-=x\n",
        "    if self.points<0:\n",
        "      self.points=0\n",
        " \n",
        "  def computeGroup(self):\n",
        "    if self.points<=100:\n",
        "      self.group=\"Silver\"\n",
        "    elif self.points>100 and self.points<=500:\n",
        "      self.group=\"Gold\"\n",
        "    elif self.points>500 and self.points<=1000:\n",
        "      self.group=\"Platinum\"\n",
        "    elif self.points>1000:\n",
        "      self.group=\"Diamond\"\n",
        " \n",
        "  def printattri(self):\n",
        "    print(\"Emp Id: \",self.empid)\n",
        "    print(\"Emp Name: \",self.empname)\n",
        "    print(\"Emp points: \",self.points)\n",
        "    print(\"Emp group: \",self.group)\n",
        "    print('\\n')\n",
        "    \n",
        "def printgrp(grp,*args):\n",
        "  for i in args:\n",
        "    if i.group==grp:\n",
        "      print(\"-\"*20)\n",
        "      print(\"Emp ID: \",i.empid)\n",
        "      print(\"Emp Name: \",i.empname)"
      ],
      "execution_count": 1,
      "outputs": []
    },
    {
      "cell_type": "code",
      "metadata": {
        "colab": {
          "base_uri": "https://localhost:8080/"
        },
        "id": "WmaQJgCjzsjv",
        "outputId": "e8b956c4-3be1-41d4-9356-0f67b61bf75c"
      },
      "source": [
        "o1=emp(102,'Ayush',140)\n",
        "o1.addPoints(30)\n",
        "o1.removePoints(10)\n",
        "o1.computeGroup()\n",
        "o1.printattri()"
      ],
      "execution_count": 2,
      "outputs": [
        {
          "output_type": "stream",
          "name": "stdout",
          "text": [
            "Emp Id:  102\n",
            "Emp Name:  Ayush\n",
            "Emp points:  160\n",
            "Emp group:  Gold\n",
            "\n",
            "\n"
          ]
        }
      ]
    },
    {
      "cell_type": "code",
      "metadata": {
        "colab": {
          "base_uri": "https://localhost:8080/"
        },
        "id": "YHgUbPfEzwlD",
        "outputId": "a2925d80-e09d-4ef4-fdb5-726c653cea8a"
      },
      "source": [
        "o2=emp(104,'Akshat',180)\n",
        "o2.addPoints(30)\n",
        "o2.removePoints(10)\n",
        "o2.computeGroup()\n",
        "o2.printattri()"
      ],
      "execution_count": 3,
      "outputs": [
        {
          "output_type": "stream",
          "name": "stdout",
          "text": [
            "Emp Id:  104\n",
            "Emp Name:  Akshat\n",
            "Emp points:  200\n",
            "Emp group:  Gold\n",
            "\n",
            "\n"
          ]
        }
      ]
    },
    {
      "cell_type": "code",
      "metadata": {
        "id": "sz6Qd9Daz04-"
      },
      "source": [
        "o3=emp(106,'Ravnoor',160)\n",
        "o3.computeGroup()"
      ],
      "execution_count": 4,
      "outputs": []
    },
    {
      "cell_type": "code",
      "metadata": {
        "colab": {
          "base_uri": "https://localhost:8080/"
        },
        "id": "i-iQ2gDwz2zY",
        "outputId": "c0c98d12-b434-4b96-fa9e-6e78f6999821"
      },
      "source": [
        "o4=emp(107,'Rounak',1800)\n",
        "o4.computeGroup()\n",
        "printgrp(\"Gold\",o1,o2,o3,o4)"
      ],
      "execution_count": 5,
      "outputs": [
        {
          "output_type": "stream",
          "name": "stdout",
          "text": [
            "--------------------\n",
            "Emp ID:  102\n",
            "Emp Name:  Ayush\n",
            "--------------------\n",
            "Emp ID:  104\n",
            "Emp Name:  Akshat\n",
            "--------------------\n",
            "Emp ID:  106\n",
            "Emp Name:  Ravnoor\n"
          ]
        }
      ]
    },
    {
      "cell_type": "code",
      "metadata": {
        "id": "6p-oJVeUz5JG"
      },
      "source": [
        "class Property:\n",
        "    def __init__(self, square_feet='', beds='',\n",
        "            baths='', **kwargs):\n",
        "        super().__init__(**kwargs)\n",
        "        self.square_feet = square_feet\n",
        "        self.num_bedrooms = beds\n",
        "        self.num_baths = baths\n",
        "\n",
        "    def display(self):\n",
        "        print(\"PROPERTY DETAILS\")\n",
        "        print(\"================\")\n",
        "        print(\"square footage: {}\".format(self.square_feet))\n",
        "        print(\"bedrooms: {}\".format(self.num_bedrooms))\n",
        "        print(\"bathrooms: {}\".format(self.num_baths))\n",
        "        print()\n",
        "\n",
        "    def prompt_init():\n",
        "        return dict(square_feet=input(\"Enter the square feet: \"),\n",
        "                beds=input(\"Enter number of bedrooms: \"),\n",
        "                baths=input(\"Enter number of baths: \"))\n",
        "    prompt_init = staticmethod(prompt_init)\n",
        "\n",
        "def get_valid_input(input_string, valid_options):\n",
        "    input_string += \" ({}) \".format((\", \".join(valid_options)))\n",
        "    response = input(input_string)\n",
        "    while response.lower() not in valid_options:\n",
        "        response = input(input_string)\n",
        "    return response\n",
        "\n",
        "class Apartment(Property):\n",
        "    valid_laundries = (\"coin\", \"ensuite\", \"none\")\n",
        "    valid_balconies = (\"yes\", \"no\", \"solarium\")\n",
        "\n",
        "    def __init__(self, balcony='', laundry='', **kwargs):\n",
        "        super().__init__(**kwargs)\n",
        "        self.balcony = balcony\n",
        "        self.laundry = laundry\n",
        "\n",
        "    def display(self):\n",
        "        super().display()\n",
        "        print(\"APARTMENT DETAILS\")\n",
        "        print(\"laundry: {}\".format(self.laundry))\n",
        "        print(\"has balcony: {}\".format(self.balcony))\n",
        "\n",
        "    def prompt_init():\n",
        "        parent_init = Property.prompt_init()\n",
        "        laundry = get_valid_input(\n",
        "                \"What laundry facilities does \"\n",
        "                \"the property have? \",\n",
        "                Apartment.valid_laundries)\n",
        "        balcony = get_valid_input(\n",
        "                \"Does the property have a balcony?\",\n",
        "                Apartment.valid_balconies)\n",
        "        parent_init.update({\n",
        "            \"laundry\": laundry,\n",
        "            \"balcony\": balcony\n",
        "        })\n",
        "        return parent_init\n",
        "    prompt_init = staticmethod(prompt_init)\n"
      ],
      "execution_count": 6,
      "outputs": []
    },
    {
      "cell_type": "code",
      "metadata": {
        "id": "3SVxCYECz-Om"
      },
      "source": [
        "class House(Property):\n",
        "    valid_garage = (\"attached\", \"detached\", \"none\")\n",
        "    valid_fenced = (\"yes\", \"no\")\n",
        "\n",
        "    def __init__(self, num_stories='',\n",
        "            garage='', fenced='', **kwargs):\n",
        "        super().__init__(**kwargs)\n",
        "        self.garage = garage\n",
        "        self.fenced = fenced\n",
        "        self.num_stories = num_stories\n",
        "\n",
        "    def display(self):\n",
        "        super().display()\n",
        "        print(\"HOUSE DETAILS\")\n",
        "        print(\"# of stories: {}\".format(self.num_stories))\n",
        "        print(\"garage: {}\".format(self.garage))\n",
        "        print(\"fenced yard: {}\".format(self.fenced))\n",
        "\n",
        "    def prompt_init():\n",
        "        parent_init = Property.prompt_init()\n",
        "        fenced = get_valid_input(\"Is the yard fenced? \",\n",
        "                    House.valid_fenced)\n",
        "        garage = get_valid_input(\"Is there a garage? \",\n",
        "                House.valid_garage)\n",
        "        num_stories = input(\"How many stories? \")\n",
        "\n",
        "        parent_init.update({\n",
        "            \"fenced\": fenced,\n",
        "            \"garage\": garage,\n",
        "            \"num_stories\": num_stories\n",
        "        })\n",
        "        return parent_init\n",
        "    prompt_init = staticmethod(prompt_init)"
      ],
      "execution_count": 7,
      "outputs": []
    },
    {
      "cell_type": "code",
      "metadata": {
        "id": "JJVDQOyx0F8t"
      },
      "source": [
        "class Purchase:\n",
        "    def __init__(self, price='', taxes='', **kwargs):\n",
        "        super().__init__(**kwargs)\n",
        "        self.price = price\n",
        "        self.taxes = taxes\n",
        "\n",
        "    def display(self):\n",
        "        super().display()\n",
        "        print(\"PURCHASE DETAILS\")\n",
        "        print(\"selling price: {}\".format(self.price))\n",
        "        print(\"estimated taxes: {}\".format(self.taxes))\n",
        "\n",
        "    def prompt_init():\n",
        "        return dict(\n",
        "            price=input(\"What is the selling price? \"),\n",
        "            taxes=input(\"What are the estimated taxes? \"))\n",
        "    prompt_init = staticmethod(prompt_init)"
      ],
      "execution_count": 8,
      "outputs": []
    },
    {
      "cell_type": "code",
      "metadata": {
        "id": "M7pIRWfj0Hnm"
      },
      "source": [
        "class Rental:\n",
        "    def __init__(self, furnished='', utilities='',\n",
        "            rent='', **kwargs):\n",
        "        super().__init__(**kwargs)\n",
        "        self.furnished = furnished\n",
        "        self.rent = rent\n",
        "        self.utilities = utilities\n",
        "\n",
        "    def display(self):\n",
        "        super().display()\n",
        "        print(\"RENTAL DETAILS\")\n",
        "        print(\"rent: {}\".format(self.rent))\n",
        "        print(\"estimated utilities: {}\".format(self.utilities))\n",
        "        print(\"furnished: {}\".format(self.furnished))\n",
        "\n",
        "    def prompt_init():\n",
        "        return dict(\n",
        "            rent=input(\"What is the monthly rent? \"),\n",
        "            utilities=input(\"What are the estimated utilities? \"),\n",
        "            furnished = get_valid_input(\"Is the property furnished? \",\n",
        "                    (\"yes\", \"no\")))\n",
        "    prompt_init = staticmethod(prompt_init)\n"
      ],
      "execution_count": 9,
      "outputs": []
    },
    {
      "cell_type": "code",
      "metadata": {
        "id": "Ps4vc_2Y0Kfn"
      },
      "source": [
        "class HouseRental(Rental, House):\n",
        "    def prompt_init():\n",
        "        init = House.prompt_init()\n",
        "        init.update(Rental.prompt_init())\n",
        "        return init\n",
        "    prompt_init = staticmethod(prompt_init)"
      ],
      "execution_count": 10,
      "outputs": []
    },
    {
      "cell_type": "code",
      "metadata": {
        "id": "jRholtkb0NKe"
      },
      "source": [
        "class ApartmentRental(Rental, Apartment):\n",
        "    def prompt_init():\n",
        "        init = Apartment.prompt_init()\n",
        "        init.update(Rental.prompt_init())\n",
        "        return init\n",
        "    prompt_init = staticmethod(prompt_init)"
      ],
      "execution_count": 11,
      "outputs": []
    },
    {
      "cell_type": "code",
      "metadata": {
        "id": "79kYXh2D0PgI"
      },
      "source": [
        "class ApartmentPurchase(Purchase, Apartment):\n",
        "    def prompt_init():\n",
        "        init = Apartment.prompt_init()\n",
        "        init.update(Purchase.prompt_init())\n",
        "        return init\n",
        "    prompt_init = staticmethod(prompt_init)"
      ],
      "execution_count": 12,
      "outputs": []
    },
    {
      "cell_type": "code",
      "metadata": {
        "id": "FHj6oNH_0R2b"
      },
      "source": [
        "class HousePurchase(Purchase, House):\n",
        "    def prompt_init():\n",
        "        init = House.prompt_init()\n",
        "        init.update(Purchase.prompt_init())\n",
        "        return init\n",
        "    prompt_init = staticmethod(prompt_init)"
      ],
      "execution_count": 13,
      "outputs": []
    },
    {
      "cell_type": "code",
      "metadata": {
        "id": "5LMSKAHS0WVY"
      },
      "source": [
        "class Agent:\n",
        "    type_map = {\n",
        "        (\"house\", \"rental\"): HouseRental,\n",
        "        (\"house\", \"purchase\"): HousePurchase,\n",
        "        (\"apartment\", \"rental\"): ApartmentRental,\n",
        "        (\"apartment\", \"purchase\"): ApartmentPurchase\n",
        "        }\n",
        "    def __init__(self):\n",
        "        self.property_list = []\n",
        "\n",
        "    def display_properties(self):\n",
        "        for property in self.property_list:\n",
        "            property.display()\n",
        "\n",
        "    def add_property(self):\n",
        "        property_type = get_valid_input(\n",
        "                \"What type of property? \",\n",
        "                (\"house\", \"apartment\")).lower()\n",
        "        payment_type = get_valid_input(\n",
        "                \"What payment type? \",\n",
        "                (\"purchase\", \"rental\")).lower()\n",
        "\n",
        "        PropertyClass = self.type_map[(property_type, payment_type)]\n",
        "        init_args = PropertyClass.prompt_init()\n",
        "        self.property_list.append(PropertyClass(**init_args))"
      ],
      "execution_count": 14,
      "outputs": []
    },
    {
      "cell_type": "code",
      "metadata": {
        "colab": {
          "base_uri": "https://localhost:8080/"
        },
        "id": "znZvHoI80XN2",
        "outputId": "f1ed5ad8-b2fc-4b96-f86d-9d70d91e1a71"
      },
      "source": [
        "agent=Agent()\n",
        "agent.add_property()\n",
        "agent.display_properties()"
      ],
      "execution_count": 15,
      "outputs": [
        {
          "output_type": "stream",
          "name": "stdout",
          "text": [
            "What type of property?  (house, apartment) house\n",
            "What payment type?  (purchase, rental) purchase\n",
            "Enter the square feet: 10000\n",
            "Enter number of bedrooms: 4\n",
            "Enter number of baths: 4\n",
            "Is the yard fenced?  (yes, no) yes\n",
            "Is there a garage?  (attached, detached, none) attached\n",
            "How many stories? 3\n",
            "What is the selling price? 100000000\n",
            "What are the estimated taxes? 30\n",
            "PROPERTY DETAILS\n",
            "================\n",
            "square footage: 10000\n",
            "bedrooms: 4\n",
            "bathrooms: 4\n",
            "\n",
            "HOUSE DETAILS\n",
            "# of stories: 3\n",
            "garage: attached\n",
            "fenced yard: yes\n",
            "PURCHASE DETAILS\n",
            "selling price: 100000000\n",
            "estimated taxes: 30\n"
          ]
        }
      ]
    }
  ]
}