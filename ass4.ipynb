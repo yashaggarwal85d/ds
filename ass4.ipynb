{
  "nbformat": 4,
  "nbformat_minor": 0,
  "metadata": {
    "colab": {
      "name": "Assign4_DS .ipynb",
      "provenance": [],
      "include_colab_link": true
    },
    "kernelspec": {
      "display_name": "Python 3",
      "name": "python3"
    },
    "language_info": {
      "name": "python"
    }
  },
  "cells": [
    {
      "cell_type": "markdown",
      "metadata": {
        "id": "view-in-github",
        "colab_type": "text"
      },
      "source": [
        "<a href=\"https://colab.research.google.com/github/7ayush/FiveSem/blob/main/Assign4_DS_.ipynb\" target=\"_parent\"><img src=\"https://colab.research.google.com/assets/colab-badge.svg\" alt=\"Open In Colab\"/></a>"
      ]
    },
    {
      "cell_type": "code",
      "metadata": {
        "id": "9BeKsJjwnp1s"
      },
      "source": [
        "#Assignment 4\n",
        "#Name - Ayush Kaushik\n",
        "#Roll No - 101903619\n",
        "import pandas as pd\n",
        "import numpy as np"
      ],
      "execution_count": 1,
      "outputs": []
    },
    {
      "cell_type": "code",
      "metadata": {
        "colab": {
          "base_uri": "https://localhost:8080/"
        },
        "id": "ao3ctBu-om8F",
        "outputId": "9841dd1e-2801-407a-c5b6-ebcb4f461be4"
      },
      "source": [
        "#Q1\n",
        "url = 'https://archive.ics.uci.edu/ml/machine-learning-databases/iris/iris.data'\n",
        "df = np.genfromtxt(url, delimiter=',', dtype = \"float,\"*4 + \"U20\")\n",
        "dfnew = np.genfromtxt(url, delimiter=',', dtype='float', usecols=[0,1,2,3])\n",
        "test = [5,2.75,1.2,0.35]\n",
        "c = 0\n",
        "temp = (dfnew - test)**2\n",
        "temp = np.sum(temp,axis=1)\n",
        "temp = np.sqrt(temp)\n",
        "no = temp.argsort()\n",
        "for i in no:\n",
        "  print(df[i][4])\n",
        "  c=c+1\n",
        "  if(c==5):\n",
        "    break"
      ],
      "execution_count": 2,
      "outputs": [
        {
          "output_type": "stream",
          "name": "stdout",
          "text": [
            "Iris-setosa\n",
            "Iris-setosa\n",
            "Iris-setosa\n",
            "Iris-setosa\n",
            "Iris-setosa\n"
          ]
        }
      ]
    },
    {
      "cell_type": "code",
      "metadata": {
        "colab": {
          "base_uri": "https://localhost:8080/"
        },
        "id": "pemeoh7vzP7X",
        "outputId": "43663d92-60a6-4a5e-c4fd-d492daf748e6"
      },
      "source": [
        "#Q2\n",
        "url = 'https://archive.ics.uci.edu/ml/machine-learning-databases/iris/iris.data'\n",
        "df = np.genfromtxt(url, delimiter=',', dtype = \"float,\"*4 + \"U20\")\n",
        "dfnew = np.genfromtxt(url, delimiter=',', dtype='float', usecols=[0,1,2,3])\n",
        "test = [5,2.75,1.2,0.35]\n",
        "c = 0\n",
        "temp = abs(dfnew - test)\n",
        "temp = np.sum(temp,axis=1)\n",
        "no = temp.argsort()\n",
        "for i in no:\n",
        "  print(df[i][4])\n",
        "  c=c+1\n",
        "  if(c==5):\n",
        "    break"
      ],
      "execution_count": 3,
      "outputs": [
        {
          "output_type": "stream",
          "name": "stdout",
          "text": [
            "Iris-setosa\n",
            "Iris-setosa\n",
            "Iris-setosa\n",
            "Iris-setosa\n",
            "Iris-setosa\n"
          ]
        }
      ]
    },
    {
      "cell_type": "code",
      "metadata": {
        "id": "QJQTejbojT0w",
        "colab": {
          "base_uri": "https://localhost:8080/"
        },
        "outputId": "9619cd75-dbb4-4436-cf63-a7632135e11e"
      },
      "source": [
        "#Q3\n",
        "import csv \n",
        "fields = ['Roll No', 'Sub1', 'Sub2', 'Sub3', 'Sub4', 'Sub5'] \n",
        "\n",
        "rows = [ ['82', '72', '90', '88', '79', '101909091'], \n",
        "         ['88', '82', '91', '80', '85', '101903089'], \n",
        "         ['87', '90', '93', '82', '84', '101903088'], \n",
        "         ['91', '81', '75', '81', '72', '101903087'], \n",
        "         ['79', '73', '78', '76', '70', '101903090'],  \n",
        "         ['69', '83', '78', '69', '90', '101903092'],  \n",
        "         ['78', '93', '81', '79', '80', '101903093'], \n",
        "         ['90', '92', '81', '70', '91', '101903091']] \n",
        " \n",
        "filename = \"records.csv\"\n",
        "     \n",
        "with open(filename, 'w') as csvfile: \n",
        "    csvwriter = csv.writer(csvfile) \n",
        "    csvwriter.writerow(fields) \n",
        "    csvwriter.writerows(rows)\n",
        "df = np.genfromtxt('records.csv',delimiter=',',dtype='int',skip_header=1)\n",
        "dfnew = df[:,0:5]\n",
        "mean = np.mean(dfnew, axis=1)\n",
        "mean.resize((8,1))\n",
        "sort_mean = mean.argsort(axis=0)\n",
        "print(\"Best Case - \", df[sort_mean[-1,0],5])\n",
        "print(\"Worst Case - \", df[sort_mean[0,0],5])"
      ],
      "execution_count": 4,
      "outputs": [
        {
          "output_type": "stream",
          "name": "stdout",
          "text": [
            "Best Case -  101903088\n",
            "Worst Case -  101903090\n"
          ]
        }
      ]
    },
    {
      "cell_type": "code",
      "metadata": {
        "colab": {
          "base_uri": "https://localhost:8080/"
        },
        "id": "jVYm4YgncLxL",
        "outputId": "905c91d2-2ee8-485d-c1e9-98646bd62c6d"
      },
      "source": [
        "#Q4\n",
        "import random as r\n",
        "ls = r.sample(range(0,150),30)\n",
        "url = 'https://archive.ics.uci.edu/ml/machine-learning-databases/iris/iris.data'\n",
        "df = np.genfromtxt(url,delimiter=',',usecols=[0,1,2,3],dtype='float')\n",
        "new = df[ls]\n",
        "mean = np.mean(new,axis=0)\n",
        "std =  np.std(new,axis=0)\n",
        "print(\"Mean -\")\n",
        "print(\"Sepal Length -\", mean[0])\n",
        "print(\"Sepal Width -\", mean[1])\n",
        "print(\"Petal Length -\", mean[2])\n",
        "print(\"Petal Width -\", mean[3])\n",
        "print()\n",
        "print(\"Standard Deviation -\")\n",
        "print(\"Sepal Length -\", std[0])\n",
        "print(\"Sepal Width -\", std[1])\n",
        "print(\"Petal Length -\", std[2])\n",
        "print(\"Petal Width -\", std[3])"
      ],
      "execution_count": 5,
      "outputs": [
        {
          "output_type": "stream",
          "name": "stdout",
          "text": [
            "Mean -\n",
            "Sepal Length - 6.013333333333332\n",
            "Sepal Width - 2.973333333333333\n",
            "Petal Length - 4.123333333333334\n",
            "Petal Width - 1.3599999999999999\n",
            "\n",
            "Standard Deviation -\n",
            "Sepal Length - 0.8057019024152516\n",
            "Sepal Width - 0.41627982041997774\n",
            "Petal Length - 1.7048329993156386\n",
            "Petal Width - 0.7314825128919124\n"
          ]
        }
      ]
    }
  ]
}